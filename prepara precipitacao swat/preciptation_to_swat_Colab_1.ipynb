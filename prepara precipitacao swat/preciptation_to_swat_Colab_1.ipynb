{
  "nbformat": 4,
  "nbformat_minor": 0,
  "metadata": {
    "colab": {
      "name": "preciptation_to_swat_Colab.ipynb",
      "provenance": [],
      "collapsed_sections": [],
      "include_colab_link": true
    },
    "kernelspec": {
      "display_name": "Python 3",
      "language": "python",
      "name": "python3"
    },
    "language_info": {
      "codemirror_mode": {
        "name": "ipython",
        "version": 3
      },
      "file_extension": ".py",
      "mimetype": "text/x-python",
      "name": "python",
      "nbconvert_exporter": "python",
      "pygments_lexer": "ipython3",
      "version": "3.8.5"
    }
  },
  "cells": [
    {
      "cell_type": "markdown",
      "metadata": {
        "id": "view-in-github",
        "colab_type": "text"
      },
      "source": [
        "<a href=\"https://colab.research.google.com/github/SWAT-Brasil/util/blob/master/prepara%20precipitacao%20swat/preciptation_to_swat_Colab.ipynb\" target=\"_parent\"><img src=\"https://colab.research.google.com/assets/colab-badge.svg\" alt=\"Open In Colab\"/></a>"
      ]
    },
    {
      "cell_type": "markdown",
      "metadata": {
        "colab_type": "text",
        "id": "JNsK_DRfote-"
      },
      "source": [
        "# Conversão de arquivos de precipitação para formato SWAT\n",
        "\n",
        "Clique no icone do google colab acima para executar o programe.\n",
        "\n",
        "Utilize ```SHIFT+ENTER``` para executar a célula."
      ]
    },
    {
      "cell_type": "code",
      "metadata": {
        "colab_type": "code",
        "id": "PMqyhAuaqMoi",
        "colab": {
          "base_uri": "https://localhost:8080/",
          "height": 156
        },
        "outputId": "3b063ff1-ba40-4530-a680-820235283415"
      },
      "source": [
        "# Verifica se esta rodando no COLAB e instala dependencias\n",
        "def init_colab_env():\n",
        "  \"\"\" prepara ambiente para uso no COLAB \"\"\"\n",
        "  print('Preparando ambiente')\n",
        "  !rm -r util\n",
        "  !git clone https://github.com/SWAT-Brasil/util.git\n",
        "\n",
        "\n",
        "running_in_colab = 'google.colab' in str(get_ipython())\n",
        "if running_in_colab:\n",
        "  init_colab_env()\n",
        "else:\n",
        "    print('AVISO: Google Colab não detectado. Esse notebook pode não funcionar'\\\n",
        "     ' corretamente fora do Google Colab')"
      ],
      "execution_count": 7,
      "outputs": [
        {
          "output_type": "stream",
          "text": [
            "Preparando ambiente\n",
            "Cloning into 'util'...\n",
            "remote: Enumerating objects: 360, done.\u001b[K\n",
            "remote: Counting objects: 100% (360/360), done.\u001b[K\n",
            "remote: Compressing objects: 100% (277/277), done.\u001b[K\n",
            "remote: Total 360 (delta 106), reused 292 (delta 67), pack-reused 0\u001b[K\n",
            "Receiving objects: 100% (360/360), 7.59 MiB | 18.77 MiB/s, done.\n",
            "Resolving deltas: 100% (106/106), done.\n"
          ],
          "name": "stdout"
        }
      ]
    },
    {
      "cell_type": "code",
      "metadata": {
        "id": "Yg3f-4oa9wuO",
        "colab_type": "code",
        "colab": {}
      },
      "source": [
        "import pandas as pd\n",
        "%matplotlib inline\n",
        "#%matplotlib notebook\n",
        "import matplotlib\n",
        "import matplotlib.pyplot as plt\n",
        "import numpy as np\n",
        "from pandas.plotting import register_matplotlib_converters\n",
        "register_matplotlib_converters()\n",
        "import datetime\n",
        "import os\n",
        "from google.colab import files"
      ],
      "execution_count": 8,
      "outputs": []
    },
    {
      "cell_type": "code",
      "metadata": {
        "id": "93ENXDzT_dTC",
        "colab_type": "code",
        "colab": {}
      },
      "source": [
        "# TODO: mover essas funções para uma pacote python\n",
        "\n",
        "def ana2pdserie(filename, consistency = None):\n",
        "  \"\"\" Converte do formato ana para serie Pandas. \n",
        "  filename: caminho para arquivo de precipitacao ANA\n",
        "  consistency: nivel de consistencia. Se não for declarado utiliza o maior nivel \n",
        "    disponivel para um dado\n",
        "  \"\"\"\n",
        "\n",
        "  DATE_COL = 'Data'    # Nome da coluna com data\n",
        "  TIME_COL = ''    # Nome da coluna com hora\n",
        "  VARIABLE_COL = []    # Lista com colunas com dados de chuva\n",
        "  DAY_NUMBER = []    # Lista com numero do dias respectivos ao variable_col\n",
        "  for i in range(1,31+1):\n",
        "      VARIABLE_COL.append('Chuva{:02d}'.format(i))\n",
        "      DAY_NUMBER.append(i)    # numero do dia que equivale ao nome da coluna\n",
        "  CONSISTENCY_COL = 'NivelConsistencia'\n",
        "\n",
        "  # Configuracao de formatacao do arquivo de entrada\n",
        "  DELIMITER = ';'    # delimitator entre campos \n",
        "  SKIP_ROWS = 10    # pula esse numero de linha antes de comercar a ler\n",
        "  ENCODING = 'iso-8859-1'    # Codificacao do arquivo. No Brasil o mais comum eh iso-8859-1. Outro formato comum eh utf-8\n",
        "  DECIMAL = ','    # Caracter utilizado como decimal\n",
        "\n",
        "  df = pd.read_csv(filename, delimiter=DELIMITER, encoding=ENCODING, skiprows=SKIP_ROWS, index_col=False, decimal=DECIMAL)\n",
        "\n",
        "  # Converte coluna de data de texto para formato interno\n",
        "  date = pd.to_datetime(df[DATE_COL], format='%d/%m/%Y')\n",
        "\n",
        "  temp_variable = df[[CONSISTENCY_COL] + VARIABLE_COL]\n",
        "  temp_variable.index = date\n",
        "  # Ordena pela data e pelo nivel de consistencia\n",
        "  temp_variable = temp_variable.sort_values(by = [DATE_COL, CONSISTENCY_COL], ascending = [True, True])\n",
        "\n",
        "  print('Formato de arquivo: ANA')\n",
        "\n",
        "  # Aplica o nivel de consistencia\n",
        "  if consistency:\n",
        "      temp_variable = temp_variable[temp_variable[CONSISTENCY_COL] == consistency]\n",
        "      print('Valor de consistencia selecionado: {}'.format(consistency))\n",
        "  else:\n",
        "      # Nao foi seleciana consistencia. Utiliza maior valor de consistencia disponivel para uma dada data\n",
        "      temp_variable = temp_variable[~temp_variable.index.duplicated(keep='last')]\n",
        "      print('Valor de consistencia nao selecionado. Utilizando o maior disponivel para o dado')\n",
        "  temp_variable\n",
        "\n",
        "  # Reconstroi o dataset, usando data com dias, nao somente mes\n",
        "  serie_temp = []\n",
        "  index_temp = []\n",
        "  for index, row in temp_variable.iterrows():\n",
        "      for val_col, day in zip(VARIABLE_COL, DAY_NUMBER):\n",
        "          if np.isnan(row[val_col]):\n",
        "              continue\n",
        "          # cria o dia. A funcao datetime gera um erro se o dia nao existir)\n",
        "          try:\n",
        "              index_temp.append(datetime.datetime(index.year, index.month, day))\n",
        "          except:\n",
        "              if row[val_col] == 0.0:\n",
        "                  print('AVISO: dado {} encontrado no dia inexistente {}-{}-{}'.format(row[val_col], index.year, index.month, day))\n",
        "                  print('Dado igual a zero (0.0), ignorando dado, deve ser um erro de preenchimento')\n",
        "                  continue\n",
        "              else:\n",
        "                  print('ERRO: dado {} encontrado no dia inexistente {}-{}-{}'.format(row[val_col], index.year, index.month, day))\n",
        "                  print('Dado diferente de zero em data invalida, oque indica algum problema. Verifique arquivo de entrada')\n",
        "                  raise\n",
        "              \n",
        "          serie_temp.append(row[val_col])\n",
        "  variable = pd.Series(serie_temp, index_temp)\n",
        "  return variable\n",
        "\n",
        "def pdserie2swat(filename_out, serie_in, start_date = None, end_date = None):\n",
        "  \"\"\" Converte serie pandas para format swat2012\n",
        "      O formato swat2012 consiste da data inicial da serie na primeira linha,\n",
        "      e o acumulado diario nas linhas seguintes. Quando dado não esta disponivels\n",
        "      ele é substituido por -99.0.\n",
        "   \"\"\"\n",
        "\n",
        "  NO_DATA = -99.0\n",
        "\n",
        "  #SERIE_START_DATE = datetime.datetime(2000, 1, 1)\n",
        "  #SERIE_END_DATE = datetime.datetime(2016,12,31)\n",
        "\n",
        "  # Seleciona faixa de datas\n",
        "  if start_date and end_date:\n",
        "    serie = serie_in[start_date: end_date]\n",
        "  elif start_date:\n",
        "    serie = serie_in[start_date]\n",
        "  elif end_date:\n",
        "    serie = serie_in[:end_date]\n",
        "  else:\n",
        "    serie = serie_in\n",
        "\n",
        "  # Preenche falhas na sequencia\n",
        "  # TODO: checar oq ocorre se falta dado no inicio e no fim da serie\n",
        "  # Verificar Nan ou numero invalido\n",
        "  date = serie.index[1]\n",
        "  serie_temp = []\n",
        "  index_temp = []\n",
        "  no_data_count = 0\n",
        "\n",
        "  for index, row in serie.iteritems():\n",
        "      # completa com NO_DATA se ainda nao tiver index\n",
        "      # serve para dados anteriores da serie e durante\n",
        "      while index > date:\n",
        "          serie_temp.append(NO_DATA)\n",
        "          index_temp.append(date)\n",
        "          # incrementa 1 dia\n",
        "          date += datetime.timedelta(days=1)\n",
        "          no_data_count += 1\n",
        "      \n",
        "      # se for NaN colocar NO_DATA\n",
        "      if np.isnan(row):\n",
        "          row = NO_DATA\n",
        "          no_data_count += 1\n",
        "          \n",
        "      # dado existe, vai para a serie\n",
        "      serie_temp.append(row)\n",
        "      index_temp.append(date)\n",
        "      date += datetime.timedelta(days=1)\n",
        "\n",
        "  # Completa a serie caso o tenha acabado os dados observados mas \n",
        "  # nao chegou ao final da serie\n",
        "  while date <= serie.index[-1]:\n",
        "      serie_temp.append(NO_DATA)\n",
        "      index_temp.append(date)\n",
        "      # incrementa 1 dia\n",
        "      date += datetime.timedelta(days=1)\n",
        "      no_data_count += 1\n",
        "      \n",
        "      \n",
        "  serie_out = pd.Series(serie_temp, index_temp) \n",
        "  print('Periodo de dados: {} - {}'.format(serie_out.index[1], serie_out.index[-1]))\n",
        "  print('Numero de dados: {}'.format(serie_out.size))\n",
        "  print('Numero de NO_DATA: {}'.format(no_data_count))\n",
        "\n",
        "  # Gera arquivo\n",
        "  with open(filename_out, 'w') as fo:    \n",
        "      # Imprime data de inicio no formato AAAAMMDD (ano mes e dia)\n",
        "      start_date = serie_out.index[0]\n",
        "      start_date_text =start_date.strftime('%Y%m%d')\n",
        "      fo.write('{}\\n'.format(start_date_text))\n",
        "      serie_out.to_csv(fo, sep=' ', line_terminator='\\n', index=False, header=None)\n",
        "\n",
        "  print('Arquivo de saida: {}'.format(filename_out))\n",
        "\n",
        "def ana2swat(filename_in, filename_out = None, consistency = None):\n",
        "  \"\"\" Converte arquivo de precipitacao ANA para swat\n",
        "  filename_out: nome do arquivo de saida. Se nao for declarado é gerado automaticamente\n",
        "  consistency: nivel de consistencia, geralmente 1 ou 2 para ANA. Se nao declarado é utilizado o dado como maior nivel de consistencia\n",
        "  \"\"\"\n",
        "  # Gera nome do arquivo de saida a partir do de entrada. Geralmente não precisa ser alterado\n",
        "  if filename_out is None:\n",
        "    path, filename = os.path.split(filename_in)\n",
        "    filename, ext = os.path.splitext(filename)\n",
        "    newfilename = 'ana_precip_to_swat_{}.txt'.format(filename)\n",
        "    \n",
        "    filename_out = os.path.join(path, newfilename)    # Nome do arquivo de saida com dados processados para uso no SWAT\n",
        "    ID = filename    # Codigo identificador da estacao, para ser utilizano no comentario do dado. Serve para confirmar a origem do dado\n",
        "\n",
        "  pcp_serie = ana2pdserie(filename_in)\n",
        "  pdserie2swat(filename_out, pcp_serie)\n",
        "\n",
        "  # Retorna o nome do arquivo criado\n",
        "  return filename_out\n",
        "\n",
        "def stats_swat(filename):\n",
        "  # TODO: colocar mais algumas estatisticas aqui\n",
        "\n",
        "  # Configuracao de formatacao do arquivo de entrada\n",
        "  DELIMITER = ';'    # delimitator entre campos \n",
        "  SKIP_ROWS = 0    # pula esse numero de linha antes de comercar a ler\n",
        "  ENCODING = 'iso-8859-1'    # Codificacao do arquivo. No Brasil o mais comum eh iso-8859-1. Outro formato comum eh utf-8\n",
        "  DECIMAL = '.'    # Caracter utilizado como decimal\n",
        "  NO_DATA = -99.0\n",
        "  # Abre arquivo com pandas\n",
        "  df = pd.read_csv(filename, delimiter=DELIMITER, encoding=ENCODING, skiprows=SKIP_ROWS, index_col=False, decimal=DECIMAL)\n",
        "\n",
        "  # Converte coluna de data de texto para formato interno\n",
        "  date = pd.to_datetime(df.columns[0], format='%Y%m%d')\n",
        "  temp_variable = df[df.columns[0]]\n",
        "\n",
        "  # Reconstroi o dataset, usando data com dias, nao somente mes\n",
        "  serie_temp = []\n",
        "  index_temp = []\n",
        "  for index, row in temp_variable.iteritems():\n",
        "      index_temp.append(date + datetime.timedelta(days=index))\n",
        "      if row == NO_DATA:\n",
        "          serie_temp.append(np.nan)\n",
        "      else:\n",
        "          serie_temp.append(row)\n",
        "  variable = pd.Series(serie_temp, index_temp)\n",
        "\n",
        "  print(\"Estatisticas precipitacao SWAT\")\n",
        "  print(variable)\n",
        "\n",
        "  plt.figure()\n",
        "  plt.plot(variable)\n",
        "  plt.title('Precipitacao diaria')\n",
        "\n",
        "  plt.figure()\n",
        "  # Acumula mensal para usuario conseguir identificar possíveis falhas \n",
        "  acc_month = variable.groupby([variable.index.year, variable.index.month]).sum()\n",
        "  index_month = [datetime.date(m[0],m[1], 1) for m in acc_month.index]\n",
        "  plt.bar(index_month, acc_month.values, width=90)\n",
        "  plt.xticks(rotation=45)\n",
        "  plt.title('Precipitacao mensal')\n",
        "\n",
        "  plt.figure()\n",
        "  # Acumula anual para usuario conseguir identificar possíveis falhas \n",
        "  acc_year = variable.groupby(variable.index.year).sum()\n",
        "  plt.bar(acc_year.index, acc_year)\n",
        "  plt.xticks(rotation=45)\n",
        "  plt.title('Precipitacao anual')"
      ],
      "execution_count": 10,
      "outputs": []
    },
    {
      "cell_type": "code",
      "metadata": {
        "id": "IsBEq1p7IWUZ",
        "colab_type": "code",
        "colab": {
          "resources": {
            "http://localhost:8080/nbextensions/google.colab/files.js": {
              "data": "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",
              "ok": true,
              "headers": [
                [
                  "content-type",
                  "application/javascript"
                ]
              ],
              "status": 200,
              "status_text": "OK"
            }
          },
          "base_uri": "https://localhost:8080/",
          "height": 98
        },
        "outputId": "4a613b20-d518-4b77-8808-bf368ccb3e3f"
      },
      "source": [
        "# Upload do arquivo\n",
        "EXAMPLE_ANA = './util/prepara precipitacao swat/test/ana/chuvas_C_01045006.csv'\n",
        "\n",
        "# Faz upload de arquivo. Se for cancelado utiliza arquivo de exemplo\n",
        "print(\"Selecione arquivo para processar. Cancele para utilizar exemplo\")\n",
        "uploaded = files.upload()\n",
        "if uploaded:\n",
        "  file_name = next(iter(uploaded.keys()))\n",
        "else:\n",
        "  print(\"Upload de arquivo cancelado. Utilizando arquivo de exemplo\")\n",
        "  file_name = EXAMPLE_ANA"
      ],
      "execution_count": 16,
      "outputs": [
        {
          "output_type": "stream",
          "text": [
            "Selecione arquivo para processar. Cancele para utilizar exemplo\n"
          ],
          "name": "stdout"
        },
        {
          "output_type": "display_data",
          "data": {
            "text/html": [
              "\n",
              "     <input type=\"file\" id=\"files-5953096c-3c87-4a6f-ba3c-709cbf2ec68b\" name=\"files[]\" multiple disabled\n",
              "        style=\"border:none\" />\n",
              "     <output id=\"result-5953096c-3c87-4a6f-ba3c-709cbf2ec68b\">\n",
              "      Upload widget is only available when the cell has been executed in the\n",
              "      current browser session. Please rerun this cell to enable.\n",
              "      </output>\n",
              "      <script src=\"/nbextensions/google.colab/files.js\"></script> "
            ],
            "text/plain": [
              "<IPython.core.display.HTML object>"
            ]
          },
          "metadata": {
            "tags": []
          }
        },
        {
          "output_type": "stream",
          "text": [
            "Saving chuvas_C_01143005.csv to chuvas_C_01143005.csv\n"
          ],
          "name": "stdout"
        }
      ]
    },
    {
      "cell_type": "code",
      "metadata": {
        "id": "LLeEzqVcJJpV",
        "colab_type": "code",
        "colab": {
          "base_uri": "https://localhost:8080/",
          "height": 1000
        },
        "outputId": "cb285976-f873-461b-ce26-cd0381212dde"
      },
      "source": [
        "# Converte\n",
        "\n",
        "# converte arquivo de ana para swat\n",
        "swat_out = ana2swat(file_name)\n",
        "# Mostra uma analise superficial dos dados\n",
        "stats_swat(swat_out)"
      ],
      "execution_count": 17,
      "outputs": [
        {
          "output_type": "stream",
          "text": [
            "Formato de arquivo: ANA\n",
            "Valor de consistencia nao selecionado. Utilizando o maior disponivel para o dado\n",
            "Periodo de dados: 1977-01-03 00:00:00 - 2015-04-30 00:00:00\n",
            "Numero de dados: 13998\n",
            "Numero de NO_DATA: 3043\n",
            "Arquivo de saida: ana_precip_to_swat_chuvas_C_01143005.txt\n",
            "Estatisticas precipitacao SWAT\n",
            "1977-01-02    0.0\n",
            "1977-01-03    0.0\n",
            "1977-01-04    5.0\n",
            "1977-01-05    0.0\n",
            "1977-01-06    0.0\n",
            "             ... \n",
            "2015-04-26    0.0\n",
            "2015-04-27    0.0\n",
            "2015-04-28    0.0\n",
            "2015-04-29    0.0\n",
            "2015-04-30    0.0\n",
            "Length: 13998, dtype: float64\n"
          ],
          "name": "stdout"
        },
        {
          "output_type": "display_data",
          "data": {
            "image/png": "[encoded data removed]",
            "text/plain": [
              "<Figure size 432x288 with 1 Axes>"
            ]
          },
          "metadata": {
            "tags": [],
            "needs_background": "light"
          }
        },
        {
          "output_type": "display_data",
          "data": {
            "image/png": "[encoded data removed]",
            "text/plain": [
              "<Figure size 432x288 with 1 Axes>"
            ]
          },
          "metadata": {
            "tags": [],
            "needs_background": "light"
          }
        },
        {
          "output_type": "display_data",
          "data": {
            "image/png": "[encoded data removed]",
            "text/plain": [
              "<Figure size 432x288 with 1 Axes>"
            ]
          },
          "metadata": {
            "tags": [],
            "needs_background": "light"
          }
        }
      ]
    },
    {
      "cell_type": "code",
      "metadata": {
        "id": "5UfypgdPIgQG",
        "colab_type": "code",
        "colab": {
          "base_uri": "https://localhost:8080/",
          "height": 17
        },
        "outputId": "2059bb83-4f3d-467c-a2d0-18f02b932de4"
      },
      "source": [
        "# Download do arquivo de entrada\n",
        "files.download(file_name)\n",
        "# Download do arquivo gerado para swat2012\n",
        "files.download(swat_out)"
      ],
      "execution_count": 18,
      "outputs": [
        {
          "output_type": "display_data",
          "data": {
            "application/javascript": [
              "\n",
              "    async function download(id, filename, size) {\n",
              "      if (!google.colab.kernel.accessAllowed) {\n",
              "        return;\n",
              "      }\n",
              "      const div = document.createElement('div');\n",
              "      const label = document.createElement('label');\n",
              "      label.textContent = `Downloading \"${filename}\": `;\n",
              "      div.appendChild(label);\n",
              "      const progress = document.createElement('progress');\n",
              "      progress.max = size;\n",
              "      div.appendChild(progress);\n",
              "      document.body.appendChild(div);\n",
              "\n",
              "      const buffers = [];\n",
              "      let downloaded = 0;\n",
              "\n",
              "      const channel = await google.colab.kernel.comms.open(id);\n",
              "      // Send a message to notify the kernel that we're ready.\n",
              "      channel.send({})\n",
              "\n",
              "      for await (const message of channel.messages) {\n",
              "        // Send a message to notify the kernel that we're ready.\n",
              "        channel.send({})\n",
              "        if (message.buffers) {\n",
              "          for (const buffer of message.buffers) {\n",
              "            buffers.push(buffer);\n",
              "            downloaded += buffer.byteLength;\n",
              "            progress.value = downloaded;\n",
              "          }\n",
              "        }\n",
              "      }\n",
              "      const blob = new Blob(buffers, {type: 'application/binary'});\n",
              "      const a = document.createElement('a');\n",
              "      a.href = window.URL.createObjectURL(blob);\n",
              "      a.download = filename;\n",
              "      div.appendChild(a);\n",
              "      a.click();\n",
              "      div.remove();\n",
              "    }\n",
              "  "
            ],
            "text/plain": [
              "<IPython.core.display.Javascript object>"
            ]
          },
          "metadata": {
            "tags": []
          }
        },
        {
          "output_type": "display_data",
          "data": {
            "application/javascript": [
              "download(\"download_cd961ad6-829c-45f5-addc-ccc2d4eeedaa\", \"chuvas_C_01143005.csv\", 85330)"
            ],
            "text/plain": [
              "<IPython.core.display.Javascript object>"
            ]
          },
          "metadata": {
            "tags": []
          }
        },
        {
          "output_type": "display_data",
          "data": {
            "application/javascript": [
              "\n",
              "    async function download(id, filename, size) {\n",
              "      if (!google.colab.kernel.accessAllowed) {\n",
              "        return;\n",
              "      }\n",
              "      const div = document.createElement('div');\n",
              "      const label = document.createElement('label');\n",
              "      label.textContent = `Downloading \"${filename}\": `;\n",
              "      div.appendChild(label);\n",
              "      const progress = document.createElement('progress');\n",
              "      progress.max = size;\n",
              "      div.appendChild(progress);\n",
              "      document.body.appendChild(div);\n",
              "\n",
              "      const buffers = [];\n",
              "      let downloaded = 0;\n",
              "\n",
              "      const channel = await google.colab.kernel.comms.open(id);\n",
              "      // Send a message to notify the kernel that we're ready.\n",
              "      channel.send({})\n",
              "\n",
              "      for await (const message of channel.messages) {\n",
              "        // Send a message to notify the kernel that we're ready.\n",
              "        channel.send({})\n",
              "        if (message.buffers) {\n",
              "          for (const buffer of message.buffers) {\n",
              "            buffers.push(buffer);\n",
              "            downloaded += buffer.byteLength;\n",
              "            progress.value = downloaded;\n",
              "          }\n",
              "        }\n",
              "      }\n",
              "      const blob = new Blob(buffers, {type: 'application/binary'});\n",
              "      const a = document.createElement('a');\n",
              "      a.href = window.URL.createObjectURL(blob);\n",
              "      a.download = filename;\n",
              "      div.appendChild(a);\n",
              "      a.click();\n",
              "      div.remove();\n",
              "    }\n",
              "  "
            ],
            "text/plain": [
              "<IPython.core.display.Javascript object>"
            ]
          },
          "metadata": {
            "tags": []
          }
        },
        {
          "output_type": "display_data",
          "data": {
            "application/javascript": [
              "download(\"download_316be9e4-07a9-4006-8011-0dbbdfb52e12\", \"ana_precip_to_swat_chuvas_C_01143005.txt\", 62698)"
            ],
            "text/plain": [
              "<IPython.core.display.Javascript object>"
            ]
          },
          "metadata": {
            "tags": []
          }
        }
      ]
    },
    {
      "cell_type": "code",
      "metadata": {
        "id": "npEwI38n-yKL",
        "colab_type": "code",
        "colab": {}
      },
      "source": [
        ""
      ],
      "execution_count": null,
      "outputs": []
    }
  ]
}