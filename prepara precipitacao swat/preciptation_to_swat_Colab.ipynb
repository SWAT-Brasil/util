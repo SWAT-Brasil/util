{
  "nbformat": 4,
  "nbformat_minor": 0,
  "metadata": {
    "colab": {
      "name": "preciptation_to_swat_Colab.ipynb",
      "provenance": [],
      "collapsed_sections": [],
      "include_colab_link": true
    },
    "kernelspec": {
      "display_name": "Python 3",
      "language": "python",
      "name": "python3"
    },
    "language_info": {
      "codemirror_mode": {
        "name": "ipython",
        "version": 3
      },
      "file_extension": ".py",
      "mimetype": "text/x-python",
      "name": "python",
      "nbconvert_exporter": "python",
      "pygments_lexer": "ipython3",
      "version": "3.8.5"
    }
  },
  "cells": [
    {
      "cell_type": "markdown",
      "metadata": {
        "id": "view-in-github",
        "colab_type": "text"
      },
      "source": [
        "<a href=\"https://colab.research.google.com/github/SWAT-Brasil/util/blob/master/%20/prepara%20precipitacao%20swat/preciptation_to_swat_Colab.ipynb\" target=\"_parent\"><img src=\"https://colab.research.google.com/assets/colab-badge.svg\" alt=\"Open In Colab\"/></a>"
      ]
    },
    {
      "cell_type": "markdown",
      "metadata": {
        "colab_type": "text",
        "id": "JNsK_DRfote-"
      },
      "source": [
        "# Conversão de arquivos de precipitação para formato SWAT\n",
        "\n",
        "Clique no icone do google colab acima para executar o programe.\n",
        "\n",
        "Utilize ```SHIFT+ENTER``` para executar a célula."
      ]
    },
    {
      "cell_type": "code",
      "metadata": {
        "colab_type": "code",
        "id": "PMqyhAuaqMoi",
        "colab": {
          "base_uri": "https://localhost:8080/",
          "height": 156
        },
        "outputId": "63203f07-0183-4928-da68-847fb0e08876"
      },
      "source": [
        "# Verifica se esta rodando no COLAB e instala dependencias\n",
        "def init_colab_env():\n",
        "  \"\"\" prepara ambiente para uso no COLAB \"\"\"\n",
        "  print('Preparando ambiente')\n",
        "  !rm -r util\n",
        "  !git clone https://github.com/SWAT-Brasil/util.git\n",
        "\n",
        "\n",
        "running_in_colab = 'google.colab' in str(get_ipython())\n",
        "if running_in_colab:\n",
        "  init_colab_env()\n",
        "else:\n",
        "    print('AVISO: Google Colab não detectado. Esse notebook pode não funcionar'\\\n",
        "     ' corretamente fora do Google Colab')"
      ],
      "execution_count": 4,
      "outputs": [
        {
          "output_type": "stream",
          "text": [
            "Preparando ambiente\n",
            "Cloning into 'util'...\n",
            "remote: Enumerating objects: 343, done.\u001b[K\n",
            "remote: Counting objects: 100% (343/343), done.\u001b[K\n",
            "remote: Compressing objects: 100% (260/260), done.\u001b[K\n",
            "remote: Total 343 (delta 97), reused 292 (delta 67), pack-reused 0\u001b[K\n",
            "Receiving objects: 100% (343/343), 7.55 MiB | 22.03 MiB/s, done.\n",
            "Resolving deltas: 100% (97/97), done.\n"
          ],
          "name": "stdout"
        }
      ]
    },
    {
      "cell_type": "code",
      "metadata": {
        "id": "Yg3f-4oa9wuO",
        "colab_type": "code",
        "colab": {}
      },
      "source": [
        "import pandas as pd\n",
        "%matplotlib inline\n",
        "#%matplotlib notebook\n",
        "import matplotlib\n",
        "import matplotlib.pyplot as plt\n",
        "import numpy as np\n",
        "from pandas.plotting import register_matplotlib_converters\n",
        "register_matplotlib_converters()\n",
        "import datetime\n",
        "import os"
      ],
      "execution_count": 6,
      "outputs": []
    },
    {
      "cell_type": "code",
      "metadata": {
        "id": "93ENXDzT_dTC",
        "colab_type": "code",
        "colab": {}
      },
      "source": [
        "def ana2pdserie(filename, consistency = None):\n",
        "  \"\"\" Converte do formato ana para SWAT. \n",
        "  filename: caminho para arquivo de precipitacao ANA\n",
        "  consistency: nivel de consistencia. Se não for declarado utiliza o maior nivel \n",
        "    disponivel para um dado\n",
        "  \"\"\"\n",
        "\n",
        "  DATE_COL = 'Data'    # Nome da coluna com data\n",
        "  TIME_COL = ''    # Nome da coluna com hora\n",
        "  VARIABLE_COL = []    # Lista com colunas com dados de chuva\n",
        "  DAY_NUMBER = []    # Lista com numero do dias respectivos ao variable_col\n",
        "  for i in range(1,31+1):\n",
        "      VARIABLE_COL.append('Chuva{:02d}'.format(i))\n",
        "      DAY_NUMBER.append(i)    # numero do dia que equivale ao nome da coluna\n",
        "  CONSISTENCY_COL = 'NivelConsistencia'\n",
        "\n",
        "  # Configuracao de formatacao do arquivo de entrada\n",
        "  DELIMITER = ';'    # delimitator entre campos \n",
        "  SKIP_ROWS = 10    # pula esse numero de linha antes de comercar a ler\n",
        "  ENCODING = 'iso-8859-1'    # Codificacao do arquivo. No Brasil o mais comum eh iso-8859-1. Outro formato comum eh utf-8\n",
        "  DECIMAL = ','    # Caracter utilizado como decimal\n",
        "\n",
        "  df = pd.read_csv(INPUT_FILE_NAME, delimiter=DELIMITER, encoding=ENCODING, skiprows=SKIP_ROWS, index_col=False, decimal=DECIMAL)\n",
        "\n",
        "  # Converte coluna de data de texto para formato interno\n",
        "  date = pd.to_datetime(df[DATE_COL], format='%d/%m/%Y')\n",
        "\n",
        "  temp_variable = df[[CONSISTENCY_COL] + VARIABLE_COL]\n",
        "  temp_variable.index = date\n",
        "  # Ordena pela data e pelo nivel de consistencia\n",
        "  temp_variable = temp_variable.sort_values(by = [DATE_COL, CONSISTENCY_COL], ascending = [True, True])\n",
        "\n",
        "  print('Formato de arquivo: ANA')\n",
        "\n",
        "  # Aplica o nivel de consistencia\n",
        "  if consistency:\n",
        "      temp_variable = temp_variable[temp_variable[CONSISTENCY_COL] == consistency]\n",
        "      print('Valor de consistencia selecionado: {}'.format(consistency))\n",
        "  else:\n",
        "      # Nao foi seleciana consistencia. Utiliza maior valor de consistencia disponivel para uma dada data\n",
        "      temp_variable = temp_variable[~temp_variable.index.duplicated(keep='last')]\n",
        "      print('Valor de consistencia nao selecionado. Utilizando o maior disponivel para o dado')\n",
        "  temp_variable\n",
        "\n",
        "  # Reconstroi o dataset, usando data com dias, nao somente mes\n",
        "  serie_temp = []\n",
        "  index_temp = []\n",
        "  for index, row in temp_variable.iterrows():\n",
        "      for val_col, day in zip(VARIABLE_COL, DAY_NUMBER):\n",
        "          if np.isnan(row[val_col]):\n",
        "              continue\n",
        "          # cria o dia. A funcao datetime gera um erro se o dia nao existir)\n",
        "          try:\n",
        "              index_temp.append(datetime.datetime(index.year, index.month, day))\n",
        "          except:\n",
        "              if row[val_col] == 0.0:\n",
        "                  print('AVISO: dado {} encontrado no dia inexistente {}-{}-{}'.format(row[val_col], index.year, index.month, day))\n",
        "                  print('Dado igual a zero (0.0), ignorando dado, deve ser um erro de preenchimento')\n",
        "                  continue\n",
        "              else:\n",
        "                  print('ERRO: dado {} encontrado no dia inexistente {}-{}-{}'.format(row[val_col], index.year, index.month, day))\n",
        "                  print('Dado diferente de zero em data invalida, oque indica algum problema. Verifique arquivo de entrada')\n",
        "                  raise\n",
        "              \n",
        "          serie_temp.append(row[val_col])\n",
        "  variable = pd.Series(serie_temp, index_temp)\n",
        "  return variable\n",
        "\n",
        "def pdserie2swat(filename_out, serie_in, start_date = None, end_date = None):\n",
        "  \"\"\" Converte serie pandas para format swat \"\"\"\n",
        "\n",
        "\n",
        "  # Periodo de inicio/fim serie (ano, mes, dia)\n",
        "  NO_DATA = -99.0\n",
        "\n",
        "  #SERIE_START_DATE = datetime.datetime(2000, 1, 1)\n",
        "  #SERIE_END_DATE = datetime.datetime(2016,12,31)\n",
        "  #SERIE_START_DATE = start_date\n",
        "  #SERIE_END_DATE = end_date\n",
        "  # Seleciona faixa de datas\n",
        "\n",
        "  if start_date and end_date:\n",
        "    serie = serie_in[start_date: end_date]\n",
        "  elif start_date:\n",
        "    serie = serie_in[start_date]\n",
        "  elif end_date:\n",
        "    serie = serie_in[:end_date]\n",
        "  else:\n",
        "    serie = serie_in\n",
        "\n",
        "    # Preenche falhas na sequencia\n",
        "  # TODO: checar oq ocorre se falta dado no inicio e no fim da serie\n",
        "  # Verificar Nan ou numero invalido\n",
        "  date = serie.index[1]\n",
        "  serie_temp = []\n",
        "  index_temp = []\n",
        "  no_data_count = 0\n",
        "\n",
        "  for index, row in serie.iteritems():\n",
        "      # completa com NO_DATA se ainda nao tiver index\n",
        "      # serve para dados anteriores da serie e durante\n",
        "      while index > date:\n",
        "          serie_temp.append(NO_DATA)\n",
        "          index_temp.append(date)\n",
        "          # incrementa 1 dia\n",
        "          date += datetime.timedelta(days=1)\n",
        "          no_data_count += 1\n",
        "      \n",
        "      # se for NaN colocar NO_DATA\n",
        "      if np.isnan(row):\n",
        "          row = NO_DATA\n",
        "          no_data_count += 1\n",
        "          \n",
        "      # dado existe, vai para a serie\n",
        "      serie_temp.append(row)\n",
        "      index_temp.append(date)\n",
        "      date += datetime.timedelta(days=1)\n",
        "\n",
        "  # Completa a serie caso o tenha acabado os dados observados mas \n",
        "  # nao chegou ao final da serie\n",
        "  while date <= serie.index[-1]:\n",
        "      serie_temp.append(NO_DATA)\n",
        "      index_temp.append(date)\n",
        "      # incrementa 1 dia\n",
        "      date += datetime.timedelta(days=1)\n",
        "      no_data_count += 1\n",
        "      \n",
        "      \n",
        "  serie_out = pd.Series(serie_temp, index_temp) \n",
        "  print('Periodo de dados: {} - {}'.format(serie_out.index[1], serie_out.index[-1]))\n",
        "  print('Numero de dados: {}'.format(serie_out.size))\n",
        "  print('Numero de NO_DATA: {}'.format(no_data_count))\n",
        "\n",
        "  # Gera arquivo com valores para calibracao e validacao\n",
        "  with open(filename_out, 'w') as fo:    \n",
        "      # Imprime data de inicio no formato AAAAMMDD (ano mes e dia)\n",
        "      start_date = serie_out.index[0]\n",
        "      start_date_text =start_date.strftime('%Y%m%d')\n",
        "      fo.write('{}\\n'.format(start_date_text))\n",
        "      serie_out.to_csv(fo, sep=' ', line_terminator='\\n', index=False, header=None)\n",
        "\n",
        "  print('Arquivo de saida: {}'.format(filename_out))\n",
        "\n",
        "def ana2swat(filename_in, filename_out = None, consistency = None):\n",
        "  \"\"\" Converte arquivo de precipitacao ANA para swat\n",
        "  filename_out: nome do arquivo de saida. Se nao for declarado é gerado automaticamente\n",
        "  consistency: nivel de consistencia, geralmente 1 ou 2 para ANA. Se nao declarado é utilizado o dado como maior nivel de consistencia\n",
        "  \"\"\"\n",
        "  # Gera nome do arquivo de saida a partir do de entrada. Geralmente não precisa ser alterado\n",
        "  if filename_out is None:\n",
        "    path, filename = os.path.split(filename_in)\n",
        "    filename, ext = os.path.splitext(filename)\n",
        "    newfilename = 'ana_precip_to_swat_{}.txt'.format(filename)\n",
        "    \n",
        "    filename_out = os.path.join(path, newfilename)    # Nome do arquivo de saida com dados processados para uso no SWAT\n",
        "    ID = filename    # Codigo identificador da estacao, para ser utilizano no comentario do dado. Serve para confirmar a origem do dado\n",
        "\n",
        "  pcp_serie = ana2pdserie(filename_in)\n",
        "  pdserie2swat(filename_out, pcp_serie)\n",
        "\n",
        "  # Retorna o nome do arquivo criado\n",
        "  return filename_out\n",
        "\n",
        "def stats_swat(filename):\n",
        "  # TODO: colocar mais algumas estatisticas aqui\n",
        "\n",
        "  # Configuracao de formatacao do arquivo de entrada\n",
        "  DELIMITER = ';'    # delimitator entre campos \n",
        "  SKIP_ROWS = 0    # pula esse numero de linha antes de comercar a ler\n",
        "  ENCODING = 'iso-8859-1'    # Codificacao do arquivo. No Brasil o mais comum eh iso-8859-1. Outro formato comum eh utf-8\n",
        "  DECIMAL = '.'    # Caracter utilizado como decimal\n",
        "  NO_DATA = -99.0\n",
        "  # Abre arquivo com pandas\n",
        "  df = pd.read_csv(filename, delimiter=DELIMITER, encoding=ENCODING, skiprows=SKIP_ROWS, index_col=False, decimal=DECIMAL)\n",
        "\n",
        "  # Converte coluna de data de texto para formato interno\n",
        "  date = pd.to_datetime(df.columns[0], format='%Y%m%d')\n",
        "  temp_variable = df[df.columns[0]]\n",
        "\n",
        "  # Reconstroi o dataset, usando data com dias, nao somente mes\n",
        "  serie_temp = []\n",
        "  index_temp = []\n",
        "  for index, row in temp_variable.iteritems():\n",
        "      index_temp.append(date + datetime.timedelta(days=index))\n",
        "      if row == NO_DATA:\n",
        "          serie_temp.append(np.nan)\n",
        "      else:\n",
        "          serie_temp.append(row)\n",
        "  variable = pd.Series(serie_temp, index_temp)\n",
        "\n",
        "  print(\"Estatisticas precipitacao SWAT\")\n",
        "  print(variable)\n",
        "\n",
        "  plt.figure()\n",
        "  plt.plot(variable)\n",
        "  plt.title('Precipitacao diaria')\n",
        "\n",
        "  plt.figure()\n",
        "  # Acumula mensal para usuario conseguir identificar possíveis falhas \n",
        "  acc_month = variable.groupby([variable.index.year, variable.index.month]).sum()\n",
        "  index_month = [datetime.date(m[0],m[1], 1) for m in acc_month.index]\n",
        "  plt.bar(index_month, acc_month.values, width=90)\n",
        "  plt.xticks(rotation=45)\n",
        "  plt.title('Precipitacao mensal')\n",
        "\n",
        "  plt.figure()\n",
        "  # Acumula anual para usuario conseguir identificar possíveis falhas \n",
        "  acc_year = variable.groupby(variable.index.year).sum()\n",
        "  plt.bar(acc_year.index, acc_year)\n",
        "  plt.xticks(rotation=45)\n",
        "  plt.title('Precipitacao anual')"
      ],
      "execution_count": 85,
      "outputs": []
    },
    {
      "cell_type": "code",
      "metadata": {
        "id": "LLeEzqVcJJpV",
        "colab_type": "code",
        "colab": {
          "base_uri": "https://localhost:8080/",
          "height": 1000
        },
        "outputId": "0fafb55b-16fe-46b8-a163-0b2f0897e011"
      },
      "source": [
        "# converte arquivo de ana para swat\n",
        "out = ana2swat(INPUT_FILE_NAME)\n",
        "# Mostra uma analise superficial dos dados\n",
        "stats_swat(out)"
      ],
      "execution_count": 86,
      "outputs": [
        {
          "output_type": "stream",
          "text": [
            "Formato de arquivo: ANA\n",
            "Valor de consistencia nao selecionado. Utilizando o maior disponivel para o dado\n",
            "Periodo de dados: 2000-09-09 00:00:00 - 2019-12-31 00:00:00\n",
            "Numero de dados: 7054\n",
            "Numero de NO_DATA: 30\n",
            "Arquivo de saida: util/prepara precipitacao swat/test/ana/ana_precip_to_swat_chuvas_C_01045006.txt\n",
            "Estatisticas precipitacao SWAT\n",
            "2000-09-08    43.6\n",
            "2000-09-09    32.7\n",
            "2000-09-10     0.0\n",
            "2000-09-11     0.0\n",
            "2000-09-12     0.0\n",
            "              ... \n",
            "2019-12-27     0.0\n",
            "2019-12-28     0.0\n",
            "2019-12-29     0.0\n",
            "2019-12-30     1.5\n",
            "2019-12-31     0.2\n",
            "Length: 7054, dtype: float64\n"
          ],
          "name": "stdout"
        },
        {
          "output_type": "display_data",
          "data": {
            "image/png": "[encoded data removed]",
            "text/plain": [
              "<Figure size 432x288 with 1 Axes>"
            ]
          },
          "metadata": {
            "tags": [],
            "needs_background": "light"
          }
        },
        {
          "output_type": "display_data",
          "data": {
            "image/png": "[encoded data removed]",
            "text/plain": [
              "<Figure size 432x288 with 1 Axes>"
            ]
          },
          "metadata": {
            "tags": [],
            "needs_background": "light"
          }
        },
        {
          "output_type": "display_data",
          "data": {
            "image/png": "[encoded data removed]",
            "text/plain": [
              "<Figure size 432x288 with 1 Axes>"
            ]
          },
          "metadata": {
            "tags": [],
            "needs_background": "light"
          }
        }
      ]
    },
    {
      "cell_type": "code",
      "metadata": {
        "id": "FE7JQSPU0D4n",
        "colab_type": "code",
        "colab": {}
      },
      "source": [
        ""
      ],
      "execution_count": null,
      "outputs": []
    }
  ]
}