{
 "cells": [
  {
   "cell_type": "markdown",
   "metadata": {},
   "source": [
    "# Visualização de precipitacao SWAT\n",
    "Visualiza e faz algumas nalises de arquivos com dados de precipitacao formato SWAT."
   ]
  },
  {
   "cell_type": "code",
   "execution_count": 1,
   "metadata": {},
   "outputs": [],
   "source": [
    "import pandas as pd\n",
    "%matplotlib inline\n",
    "#%matplotlib notebook\n",
    "import matplotlib\n",
    "import matplotlib.pyplot as plt\n",
    "import numpy as np\n",
    "from pandas.plotting import register_matplotlib_converters\n",
    "register_matplotlib_converters()\n",
    "import datetime\n",
    "import os"
   ]
  },
  {
   "cell_type": "code",
   "execution_count": 4,
   "metadata": {},
   "outputs": [],
   "source": [
    "# Nome do arquivo de entrada e da coluna com a variavel\n",
    "INPUT_FILE_NAME = './test/swat 2012/p1045006.txt'    # Nome do arquivo de entrada\n",
    "\n",
    "# Configuracao de formatacao do arquivo de entrada\n",
    "DELIMITER = ';'    # delimitator entre campos \n",
    "SKIP_ROWS = 0    # pula esse numero de linha antes de comercar a ler\n",
    "ENCODING = 'iso-8859-1'    # Codificacao do arquivo. No Brasil o mais comum eh iso-8859-1. Outro formato comum eh utf-8\n",
    "DECIMAL = '.'    # Caracter utilizado como decimal\n",
    "\n",
    "NO_DATA = -99.0\n"
   ]
  },
  {
   "cell_type": "markdown",
   "metadata": {},
   "source": [
    "## Le arquivo de entrada e transforma para formato interno"
   ]
  },
  {
   "cell_type": "code",
   "execution_count": 5,
   "metadata": {},
   "outputs": [
    {
     "data": {
      "text/html": [
       "<div>\n",
       "<style scoped>\n",
       "    .dataframe tbody tr th:only-of-type {\n",
       "        vertical-align: middle;\n",
       "    }\n",
       "\n",
       "    .dataframe tbody tr th {\n",
       "        vertical-align: top;\n",
       "    }\n",
       "\n",
       "    .dataframe thead th {\n",
       "        text-align: right;\n",
       "    }\n",
       "</style>\n",
       "<table border=\"1\" class=\"dataframe\">\n",
       "  <thead>\n",
       "    <tr style=\"text-align: right;\">\n",
       "      <th></th>\n",
       "      <th>20000101</th>\n",
       "    </tr>\n",
       "  </thead>\n",
       "  <tbody>\n",
       "    <tr>\n",
       "      <th>0</th>\n",
       "      <td>-99.0</td>\n",
       "    </tr>\n",
       "    <tr>\n",
       "      <th>1</th>\n",
       "      <td>-99.0</td>\n",
       "    </tr>\n",
       "    <tr>\n",
       "      <th>2</th>\n",
       "      <td>-99.0</td>\n",
       "    </tr>\n",
       "    <tr>\n",
       "      <th>3</th>\n",
       "      <td>-99.0</td>\n",
       "    </tr>\n",
       "    <tr>\n",
       "      <th>4</th>\n",
       "      <td>-99.0</td>\n",
       "    </tr>\n",
       "    <tr>\n",
       "      <th>...</th>\n",
       "      <td>...</td>\n",
       "    </tr>\n",
       "    <tr>\n",
       "      <th>6205</th>\n",
       "      <td>0.0</td>\n",
       "    </tr>\n",
       "    <tr>\n",
       "      <th>6206</th>\n",
       "      <td>0.2</td>\n",
       "    </tr>\n",
       "    <tr>\n",
       "      <th>6207</th>\n",
       "      <td>0.0</td>\n",
       "    </tr>\n",
       "    <tr>\n",
       "      <th>6208</th>\n",
       "      <td>0.0</td>\n",
       "    </tr>\n",
       "    <tr>\n",
       "      <th>6209</th>\n",
       "      <td>0.0</td>\n",
       "    </tr>\n",
       "  </tbody>\n",
       "</table>\n",
       "<p>6210 rows × 1 columns</p>\n",
       "</div>"
      ],
      "text/plain": [
       "      20000101\n",
       "0        -99.0\n",
       "1        -99.0\n",
       "2        -99.0\n",
       "3        -99.0\n",
       "4        -99.0\n",
       "...        ...\n",
       "6205       0.0\n",
       "6206       0.2\n",
       "6207       0.0\n",
       "6208       0.0\n",
       "6209       0.0\n",
       "\n",
       "[6210 rows x 1 columns]"
      ]
     },
     "execution_count": 5,
     "metadata": {},
     "output_type": "execute_result"
    }
   ],
   "source": [
    "# Abre arquivo com pandas\n",
    "df = pd.read_csv(INPUT_FILE_NAME, delimiter=DELIMITER, encoding=ENCODING, skiprows=SKIP_ROWS, index_col=False, decimal=DECIMAL)\n",
    "df"
   ]
  },
  {
   "cell_type": "code",
   "execution_count": 6,
   "metadata": {},
   "outputs": [
    {
     "data": {
      "text/plain": [
       "Timestamp('2000-01-01 00:00:00')"
      ]
     },
     "execution_count": 6,
     "metadata": {},
     "output_type": "execute_result"
    }
   ],
   "source": [
    "# Converte coluna de data de texto para formato interno\n",
    "date = pd.to_datetime(df.columns[0], format='%Y%m%d')\n",
    "date"
   ]
  },
  {
   "cell_type": "code",
   "execution_count": 7,
   "metadata": {},
   "outputs": [
    {
     "data": {
      "text/plain": [
       "0      -99.0\n",
       "1      -99.0\n",
       "2      -99.0\n",
       "3      -99.0\n",
       "4      -99.0\n",
       "        ... \n",
       "6205     0.0\n",
       "6206     0.2\n",
       "6207     0.0\n",
       "6208     0.0\n",
       "6209     0.0\n",
       "Name: 20000101, Length: 6210, dtype: float64"
      ]
     },
     "execution_count": 7,
     "metadata": {},
     "output_type": "execute_result"
    }
   ],
   "source": [
    "temp_variable = df[df.columns[0]]\n",
    "temp_variable"
   ]
  },
  {
   "cell_type": "code",
   "execution_count": 8,
   "metadata": {},
   "outputs": [
    {
     "data": {
      "text/plain": [
       "2000-01-01    NaN\n",
       "2000-01-02    NaN\n",
       "2000-01-03    NaN\n",
       "2000-01-04    NaN\n",
       "2000-01-05    NaN\n",
       "             ... \n",
       "2016-12-27    0.0\n",
       "2016-12-28    0.2\n",
       "2016-12-29    0.0\n",
       "2016-12-30    0.0\n",
       "2016-12-31    0.0\n",
       "Length: 6210, dtype: float64"
      ]
     },
     "execution_count": 8,
     "metadata": {},
     "output_type": "execute_result"
    }
   ],
   "source": [
    "# Reconstroi o dataset, usando data com dias, nao somente mes\n",
    "serie_temp = []\n",
    "index_temp = []\n",
    "for index, row in temp_variable.iteritems():\n",
    "    index_temp.append(date + datetime.timedelta(days=index))\n",
    "    if row == NO_DATA:\n",
    "        serie_temp.append(np.nan)\n",
    "    else:\n",
    "        serie_temp.append(row)\n",
    "#        serie_temp.append(row[val_col])\n",
    "variable = pd.Series(serie_temp, index_temp)\n",
    "variable"
   ]
  },
  {
   "cell_type": "markdown",
   "metadata": {},
   "source": [
    "## Visualização dos dados parar verificação"
   ]
  },
  {
   "cell_type": "code",
   "execution_count": 9,
   "metadata": {},
   "outputs": [
    {
     "data": {
      "text/plain": [
       "Text(0.5, 1.0, 'Day accum')"
      ]
     },
     "execution_count": 9,
     "metadata": {},
     "output_type": "execute_result"
    },
    {
     "data": {
      "image/png": "[encoded data removed]",
      "text/plain": [
       "<Figure size 432x288 with 1 Axes>"
      ]
     },
     "metadata": {
      "needs_background": "light"
     },
     "output_type": "display_data"
    }
   ],
   "source": [
    "plt.plot(variable)\n",
    "plt.title('Day accum')"
   ]
  },
  {
   "cell_type": "code",
   "execution_count": 10,
   "metadata": {},
   "outputs": [
    {
     "data": {
      "text/plain": [
       "Text(0.5, 1.0, 'Month accum')"
      ]
     },
     "execution_count": 10,
     "metadata": {},
     "output_type": "execute_result"
    },
    {
     "data": {
      "image/png": "[encoded data removed]",
      "text/plain": [
       "<Figure size 432x288 with 1 Axes>"
      ]
     },
     "metadata": {
      "needs_background": "light"
     },
     "output_type": "display_data"
    }
   ],
   "source": [
    "# Acumula mensal para usuario conseguir identificar possíveis falhas \n",
    "acc_month = variable.groupby([variable.index.year, variable.index.month]).sum()\n",
    "index_month = [datetime.date(m[0],m[1], 1) for m in acc_month.index]\n",
    "plt.bar(index_month, acc_month.values, width=90)\n",
    "plt.xticks(rotation=45)\n",
    "plt.title('Month accum')"
   ]
  },
  {
   "cell_type": "code",
   "execution_count": 11,
   "metadata": {},
   "outputs": [
    {
     "data": {
      "text/plain": [
       "Text(0.5, 1.0, 'Year accum')"
      ]
     },
     "execution_count": 11,
     "metadata": {},
     "output_type": "execute_result"
    },
    {
     "data": {
      "image/png": "[encoded data removed]",
      "text/plain": [
       "<Figure size 432x288 with 1 Axes>"
      ]
     },
     "metadata": {
      "needs_background": "light"
     },
     "output_type": "display_data"
    }
   ],
   "source": [
    "# Acumula anual para usuario conseguir identificar possíveis falhas \n",
    "acc_year = variable.groupby(variable.index.year).sum()\n",
    "plt.bar(acc_year.index, acc_year)\n",
    "plt.xticks(rotation=45)\n",
    "plt.title('Year accum')"
   ]
  },
  {
   "cell_type": "code",
   "execution_count": null,
   "metadata": {},
   "outputs": [],
   "source": []
  }
 ],
 "metadata": {
  "kernelspec": {
   "display_name": "Python 3",
   "language": "python",
   "name": "python3"
  },
  "language_info": {
   "codemirror_mode": {
    "name": "ipython",
    "version": 3
   },
   "file_extension": ".py",
   "mimetype": "text/x-python",
   "name": "python",
   "nbconvert_exporter": "python",
   "pygments_lexer": "ipython3",
   "version": "3.8.5"
  }
 },
 "nbformat": 4,
 "nbformat_minor": 4
}
