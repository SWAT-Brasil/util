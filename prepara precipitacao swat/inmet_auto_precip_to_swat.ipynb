{
 "cells": [
  {
   "cell_type": "markdown",
   "metadata": {},
   "source": [
    "# Processamento de arquivos texto para SWAT\n",
    "Converte arquivos de precipitacao do INMET Automatica \n",
    "para entrada do modelo SWAT."
   ]
  },
  {
   "cell_type": "code",
   "execution_count": 1,
   "metadata": {},
   "outputs": [],
   "source": [
    "import pandas as pd\n",
    "%matplotlib inline\n",
    "#%matplotlib notebook\n",
    "import matplotlib\n",
    "import matplotlib.pyplot as plt\n",
    "import numpy as np\n",
    "from pandas.plotting import register_matplotlib_converters\n",
    "register_matplotlib_converters()\n",
    "import datetime\n",
    "import os"
   ]
  },
  {
   "cell_type": "code",
   "execution_count": 2,
   "metadata": {},
   "outputs": [],
   "source": [
    "# Nome do arquivo de entrada e da coluna com a variavel\n",
    "INPUT_FILE_NAME = './test/inmet automatica/dados_A402_D_2001-12-19_2020-01-01.csv'    # Nome do arquivo de entrada\n",
    "\n",
    "DATE_COL = 'Data Medicao'    # Nome da coluna com data\n",
    "TIME_COL = ''    # Nome da coluna com hora\n",
    "VARIABLE_COL = 'PRECIPITACAO TOTAL, DIARIO (AUT)(mm)'    # Nome da coluna com os dados\n",
    "\n",
    "# Configuracao de formatacao do arquivo de entrada\n",
    "DELIMITER = ';'    # delimitator entre campos \n",
    "SKIP_ROWS = 10    # pula esse numero de linha antes de comercar a ler\n",
    "ENCODING = 'iso-8859-1'    # Codificacao do arquivo. No Brasil o mais comum eh iso-8859-1. Outro formato comum eh utf-8\n",
    "DECIMAL = ','    # Caracter utilizado como decimal\n",
    "\n",
    "# Gera nome do arquivo de saida a partir do de entrada. Geralmente não precisa ser alterado\n",
    "path, filename = os.path.split(INPUT_FILE_NAME)\n",
    "newfilename = 'inmet_precip_to_swat_{}'.format(filename)\n",
    "debugfilename = 'DEBUG_inmet_precip_to_swat_{}'.format(filename)\n",
    "OUTPUT_FILE_NAME = os.path.join(path, newfilename)    # Nome do arquivo de saida com dados processados para uso no SWAT\n",
    "DEBUG_FILE_NAME = os.path.join(path, debugfilename)    # Nome do arquivo de saida com dados processados para uso no SWAT\n",
    "ID = filename    # Codigo identificador da estacao, para ser utilizano no comentario do dado. Serve para confirmar a origem do dado\n",
    "\n",
    "# Periodo de inicio/fim serie (ano, mes, dia)\n",
    "SERIE_START_DATE = datetime.date(2000, 1, 1)\n",
    "SERIE_END_DATE = datetime.date(2016,12,31)\n",
    "NO_DATA = -99.0\n",
    "\n",
    "# Passo do modelo\n",
    "# TODO: ainda nao esta implementado, por enquanto nao é utilizado\n",
    "STEP = 'day'\n",
    "\n",
    "# Liga/desliga salvar arquivo de debug (valores com datas). \n",
    "# Esse arquivo facilita encontrar possíveis problemas\n",
    "MAKE_DEBUG_FILE = True"
   ]
  },
  {
   "cell_type": "markdown",
   "metadata": {},
   "source": [
    "## Le arquivo de entrada e transforma para formato interno"
   ]
  },
  {
   "cell_type": "code",
   "execution_count": 3,
   "metadata": {},
   "outputs": [
    {
     "data": {
      "text/html": [
       "<div>\n",
       "<style scoped>\n",
       "    .dataframe tbody tr th:only-of-type {\n",
       "        vertical-align: middle;\n",
       "    }\n",
       "\n",
       "    .dataframe tbody tr th {\n",
       "        vertical-align: top;\n",
       "    }\n",
       "\n",
       "    .dataframe thead th {\n",
       "        text-align: right;\n",
       "    }\n",
       "</style>\n",
       "<table border=\"1\" class=\"dataframe\">\n",
       "  <thead>\n",
       "    <tr style=\"text-align: right;\">\n",
       "      <th></th>\n",
       "      <th>Data Medicao</th>\n",
       "      <th>PRECIPITACAO TOTAL, DIARIO (AUT)(mm)</th>\n",
       "      <th>Unnamed: 2</th>\n",
       "    </tr>\n",
       "  </thead>\n",
       "  <tbody>\n",
       "    <tr>\n",
       "      <th>0</th>\n",
       "      <td>2001-12-19</td>\n",
       "      <td>NaN</td>\n",
       "      <td>NaN</td>\n",
       "    </tr>\n",
       "    <tr>\n",
       "      <th>1</th>\n",
       "      <td>2001-12-20</td>\n",
       "      <td>NaN</td>\n",
       "      <td>NaN</td>\n",
       "    </tr>\n",
       "    <tr>\n",
       "      <th>2</th>\n",
       "      <td>2001-12-21</td>\n",
       "      <td>2.0</td>\n",
       "      <td>NaN</td>\n",
       "    </tr>\n",
       "    <tr>\n",
       "      <th>3</th>\n",
       "      <td>2001-12-22</td>\n",
       "      <td>2.0</td>\n",
       "      <td>NaN</td>\n",
       "    </tr>\n",
       "    <tr>\n",
       "      <th>4</th>\n",
       "      <td>2001-12-23</td>\n",
       "      <td>19.2</td>\n",
       "      <td>NaN</td>\n",
       "    </tr>\n",
       "    <tr>\n",
       "      <th>...</th>\n",
       "      <td>...</td>\n",
       "      <td>...</td>\n",
       "      <td>...</td>\n",
       "    </tr>\n",
       "    <tr>\n",
       "      <th>6583</th>\n",
       "      <td>2019-12-28</td>\n",
       "      <td>0.0</td>\n",
       "      <td>NaN</td>\n",
       "    </tr>\n",
       "    <tr>\n",
       "      <th>6584</th>\n",
       "      <td>2019-12-29</td>\n",
       "      <td>0.0</td>\n",
       "      <td>NaN</td>\n",
       "    </tr>\n",
       "    <tr>\n",
       "      <th>6585</th>\n",
       "      <td>2019-12-30</td>\n",
       "      <td>22.2</td>\n",
       "      <td>NaN</td>\n",
       "    </tr>\n",
       "    <tr>\n",
       "      <th>6586</th>\n",
       "      <td>2019-12-31</td>\n",
       "      <td>0.0</td>\n",
       "      <td>NaN</td>\n",
       "    </tr>\n",
       "    <tr>\n",
       "      <th>6587</th>\n",
       "      <td>2020-01-01</td>\n",
       "      <td>3.4</td>\n",
       "      <td>NaN</td>\n",
       "    </tr>\n",
       "  </tbody>\n",
       "</table>\n",
       "<p>6588 rows × 3 columns</p>\n",
       "</div>"
      ],
      "text/plain": [
       "     Data Medicao  PRECIPITACAO TOTAL, DIARIO (AUT)(mm)  Unnamed: 2\n",
       "0      2001-12-19                                   NaN         NaN\n",
       "1      2001-12-20                                   NaN         NaN\n",
       "2      2001-12-21                                   2.0         NaN\n",
       "3      2001-12-22                                   2.0         NaN\n",
       "4      2001-12-23                                  19.2         NaN\n",
       "...           ...                                   ...         ...\n",
       "6583   2019-12-28                                   0.0         NaN\n",
       "6584   2019-12-29                                   0.0         NaN\n",
       "6585   2019-12-30                                  22.2         NaN\n",
       "6586   2019-12-31                                   0.0         NaN\n",
       "6587   2020-01-01                                   3.4         NaN\n",
       "\n",
       "[6588 rows x 3 columns]"
      ]
     },
     "execution_count": 3,
     "metadata": {},
     "output_type": "execute_result"
    }
   ],
   "source": [
    "# Abre arquivo com pandas\n",
    "df = pd.read_csv(INPUT_FILE_NAME, delimiter=DELIMITER, encoding=ENCODING, skiprows=SKIP_ROWS, index_col=False, decimal=DECIMAL)\n",
    "df"
   ]
  },
  {
   "cell_type": "code",
   "execution_count": 4,
   "metadata": {},
   "outputs": [],
   "source": [
    "# Converte coluna de data de texto para formato interno\n",
    "date = pd.to_datetime(df[DATE_COL], format='%Y-%m-%d')"
   ]
  },
  {
   "cell_type": "code",
   "execution_count": 5,
   "metadata": {},
   "outputs": [
    {
     "data": {
      "text/plain": [
       "Data Medicao\n",
       "2001-12-19     NaN\n",
       "2001-12-20     NaN\n",
       "2001-12-21     2.0\n",
       "2001-12-22     2.0\n",
       "2001-12-23    19.2\n",
       "              ... \n",
       "2019-12-28     0.0\n",
       "2019-12-29     0.0\n",
       "2019-12-30    22.2\n",
       "2019-12-31     0.0\n",
       "2020-01-01     3.4\n",
       "Name: PRECIPITACAO TOTAL, DIARIO (AUT)(mm), Length: 6588, dtype: float64"
      ]
     },
     "execution_count": 5,
     "metadata": {},
     "output_type": "execute_result"
    }
   ],
   "source": [
    "variable = df[VARIABLE_COL]\n",
    "variable.index = date\n",
    "variable = variable.sort_index() # Ordena pelo indice\n",
    "variable"
   ]
  },
  {
   "cell_type": "markdown",
   "metadata": {},
   "source": [
    "## Visualização dos dados parar verificação"
   ]
  },
  {
   "cell_type": "code",
   "execution_count": 6,
   "metadata": {},
   "outputs": [
    {
     "data": {
      "text/plain": [
       "Text(0.5, 1.0, 'Day accum')"
      ]
     },
     "execution_count": 6,
     "metadata": {},
     "output_type": "execute_result"
    },
    {
     "data": {
      "image/png": "[encoded data removed]",
      "text/plain": [
       "<Figure size 432x288 with 1 Axes>"
      ]
     },
     "metadata": {
      "needs_background": "light"
     },
     "output_type": "display_data"
    }
   ],
   "source": [
    "plt.plot(variable)\n",
    "plt.title('Day accum')"
   ]
  },
  {
   "cell_type": "code",
   "execution_count": 7,
   "metadata": {},
   "outputs": [
    {
     "data": {
      "text/plain": [
       "Text(0.5, 1.0, 'Month accum')"
      ]
     },
     "execution_count": 7,
     "metadata": {},
     "output_type": "execute_result"
    },
    {
     "data": {
      "image/png": "[encoded data removed]",
      "text/plain": [
       "<Figure size 432x288 with 1 Axes>"
      ]
     },
     "metadata": {
      "needs_background": "light"
     },
     "output_type": "display_data"
    }
   ],
   "source": [
    "# Acumula mensal para usuario conseguir identificar possíveis falhas \n",
    "acc_month = variable.groupby([variable.index.year, variable.index.month]).sum()\n",
    "index_month = [datetime.date(m[0],m[1], 1) for m in acc_month.index]\n",
    "plt.bar(index_month, acc_month.values, width=20)\n",
    "plt.xticks(rotation=45)\n",
    "plt.title('Month accum')"
   ]
  },
  {
   "cell_type": "code",
   "execution_count": 8,
   "metadata": {},
   "outputs": [
    {
     "data": {
      "text/plain": [
       "Text(0.5, 1.0, 'Year accum')"
      ]
     },
     "execution_count": 8,
     "metadata": {},
     "output_type": "execute_result"
    },
    {
     "data": {
      "image/png": "[encoded data removed]",
      "text/plain": [
       "<Figure size 432x288 with 1 Axes>"
      ]
     },
     "metadata": {
      "needs_background": "light"
     },
     "output_type": "display_data"
    }
   ],
   "source": [
    "# Acumula anual para usuario conseguir identificar possíveis falhas \n",
    "acc_year = variable.groupby(variable.index.year).sum()\n",
    "plt.bar(acc_year.index, acc_year)\n",
    "plt.xticks(rotation=45)\n",
    "plt.title('Year accum')"
   ]
  },
  {
   "cell_type": "markdown",
   "metadata": {},
   "source": [
    "## Gera arquivo para SWAT\n",
    "Converte para formato de precipitacao utilizado no SWAT 2012: primeira linha contem o primeiro dia da série em juliano, e os pontos vão sendo adicionados diariamente. Pontos faltando são preenchidos com NO_DATA"
   ]
  },
  {
   "cell_type": "code",
   "execution_count": 9,
   "metadata": {
    "scrolled": true
   },
   "outputs": [
    {
     "data": {
      "text/plain": [
       "Data Medicao\n",
       "2001-12-19     NaN\n",
       "2001-12-20     NaN\n",
       "2001-12-21     2.0\n",
       "2001-12-22     2.0\n",
       "2001-12-23    19.2\n",
       "              ... \n",
       "2016-12-27     0.0\n",
       "2016-12-28     0.0\n",
       "2016-12-29     0.0\n",
       "2016-12-30     0.0\n",
       "2016-12-31     0.0\n",
       "Name: PRECIPITACAO TOTAL, DIARIO (AUT)(mm), Length: 5492, dtype: float64"
      ]
     },
     "execution_count": 9,
     "metadata": {},
     "output_type": "execute_result"
    }
   ],
   "source": [
    "# Seleciona faixa de datas\n",
    "serie = variable[SERIE_START_DATE: SERIE_END_DATE]\n",
    "serie"
   ]
  },
  {
   "cell_type": "code",
   "execution_count": 10,
   "metadata": {},
   "outputs": [
    {
     "name": "stdout",
     "output_type": "stream",
     "text": [
      "Data len: 6210\n",
      "NO_DATA count: 1711\n"
     ]
    }
   ],
   "source": [
    "# Preenche falhas na sequencia\n",
    "# TODO: checar oq ocorre se falta dado no inicio e no fim da serie\n",
    "# Verificar Nan ou numero invalido\n",
    "date = SERIE_START_DATE\n",
    "serie_temp = []\n",
    "index_temp = []\n",
    "no_data_count = 0\n",
    "\n",
    "for index, row in serie.iteritems():\n",
    "    # completa com NO_DATA se ainda nao tiver index\n",
    "    # serve para dados anteriores da serie e durante\n",
    "    while index > date:\n",
    "        serie_temp.append(NO_DATA)\n",
    "        index_temp.append(date)\n",
    "        # incrementa 1 dia\n",
    "        date += datetime.timedelta(days=1)\n",
    "        no_data_count += 1\n",
    "    \n",
    "    # se for NaN colocar NO_DATA\n",
    "    if np.isnan(row):\n",
    "        row = NO_DATA\n",
    "        no_data_count += 1\n",
    "        \n",
    "    # dado existe, vai para a serie\n",
    "    serie_temp.append(row)\n",
    "    index_temp.append(date)\n",
    "    date += datetime.timedelta(days=1)\n",
    "\n",
    "# Completa a serie caso o tenha acabado os dados observados mas \n",
    "# nao chegou ao final da serie\n",
    "while date <= SERIE_END_DATE:\n",
    "    serie_temp.append(NO_DATA)\n",
    "    index_temp.append(date)\n",
    "    # incrementa 1 dia\n",
    "    date += datetime.timedelta(days=1)\n",
    "    no_data_count += 1\n",
    "    \n",
    "    \n",
    "serie_out = pd.Series(serie_temp, index_temp) \n",
    "print('Data len: {}'.format(serie_out.size))\n",
    "print('NO_DATA count: {}'.format(no_data_count))"
   ]
  },
  {
   "cell_type": "code",
   "execution_count": 11,
   "metadata": {},
   "outputs": [
    {
     "name": "stdout",
     "output_type": "stream",
     "text": [
      "Arquivo de saida: ./test/inmet automatica/inmet_precip_to_swat_dados_A402_D_2001-12-19_2020-01-01.csv\n"
     ]
    }
   ],
   "source": [
    "# Gera arquivo com valores para calibracao e validacao\n",
    "with open(OUTPUT_FILE_NAME, 'w') as fo:\n",
    "    #fo.write('Dados de precipitacao para SWAT 2012\\n')\n",
    "    #fo.write('Arquivo de entrada: {}\\n'.format(INPUT_FILE_NAME))\n",
    "    #fo.write('Arquivo de saida: {}\\n'.format(OUTPUT_FILE_NAME))\n",
    "    #fo.write('Passo: {}\\n'.format(STEP))\n",
    "    \n",
    "    #fo.write('\\n')\n",
    "\n",
    "    #fo.write('Precipitacao\\n')\n",
    "    #fo.write('Data inicial: {}\\n'.format(SERIE_START_DATE))\n",
    "    #fo.write('Data final: {}\\n'.format(SERIE_END_DATE))\n",
    "    #fo.write('Numero elementos: {}\\n'.format(serie_out.size))\n",
    "    #fo.write('Numero NO_DATA: {}\\n'.format(no_data_count))    \n",
    "    #fo.write('\\n')\n",
    "    \n",
    "    # Imprime data de inicio no formato AAAAMMDD (ano mes e dia)\n",
    "    start_date = serie_out.index[0]\n",
    "    start_date_text =start_date.strftime('%Y%m%d')\n",
    "    fo.write('{}\\n'.format(start_date_text))\n",
    "    serie_out.to_csv(fo, sep=' ', line_terminator='\\n', index=False, header=None)\n",
    "\n",
    "print('Arquivo de saida: {}'.format(OUTPUT_FILE_NAME))"
   ]
  },
  {
   "cell_type": "code",
   "execution_count": 12,
   "metadata": {},
   "outputs": [
    {
     "name": "stdout",
     "output_type": "stream",
     "text": [
      "Arquivo de DEBUG: ./test/inmet automatica/DEBUG_inmet_precip_to_swat_dados_A402_D_2001-12-19_2020-01-01.csv\n"
     ]
    }
   ],
   "source": [
    "# Gera arquivo de debug\n",
    "if MAKE_DEBUG_FILE:\n",
    "    with open(DEBUG_FILE_NAME, 'w') as fo:\n",
    "    # Imprime data de inicio no formato AAAAMMDD (ano mes e dia)\n",
    "        start_date = serie_out.index[0]\n",
    "        start_date_text =start_date.strftime('%Y%m%d')\n",
    "        fo.write('{} -- DEBUG: nao utilize no SWAT, somente para verificacao\\n'.format(start_date_text))\n",
    "        serie_out.to_csv(fo, sep=' ', line_terminator='\\n', index=True, header=None)\n",
    "\n",
    "print('Arquivo de DEBUG: {}'.format(DEBUG_FILE_NAME))\n"
   ]
  },
  {
   "cell_type": "code",
   "execution_count": null,
   "metadata": {},
   "outputs": [],
   "source": []
  }
 ],
 "metadata": {
  "kernelspec": {
   "display_name": "Python 3",
   "language": "python",
   "name": "python3"
  },
  "language_info": {
   "codemirror_mode": {
    "name": "ipython",
    "version": 3
   },
   "file_extension": ".py",
   "mimetype": "text/x-python",
   "name": "python",
   "nbconvert_exporter": "python",
   "pygments_lexer": "ipython3",
   "version": "3.8.5"
  }
 },
 "nbformat": 4,
 "nbformat_minor": 4
}
